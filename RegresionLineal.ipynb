{
 "cells": [
  {
   "cell_type": "code",
   "execution_count": 1,
   "id": "e14f27be",
   "metadata": {},
   "outputs": [],
   "source": [
    "import numpy as np\n",
    "import matplotlib.pyplot as plt\n",
    "from sklearn.datasets._samples_generator import make_regression"
   ]
  },
  {
   "cell_type": "code",
   "execution_count": 2,
   "id": "2c2fc872",
   "metadata": {},
   "outputs": [],
   "source": [
    "X, y = make_regression(n_samples=200, n_features=1, n_informative=1, noise=2, random_state=200)\n",
    "m = 200"
   ]
  },
  {
   "cell_type": "markdown",
   "id": "66dd0774",
   "metadata": {},
   "source": [
    "##### Gráfica de la regresión"
   ]
  },
  {
   "cell_type": "code",
   "execution_count": 3,
   "id": "887e3998",
   "metadata": {
    "scrolled": true
   },
   "outputs": [
    {
     "data": {
      "text/plain": [
       "<matplotlib.collections.PathCollection at 0x1f3bd50b430>"
      ]
     },
     "execution_count": 3,
     "metadata": {},
     "output_type": "execute_result"
    },
    {
     "data": {
      "image/png": "[encoded data removed]",
      "text/plain": [
       "<Figure size 432x288 with 1 Axes>"
      ]
     },
     "metadata": {
      "needs_background": "light"
     },
     "output_type": "display_data"
    }
   ],
   "source": [
    "plt.scatter(X, y, c=\"red\", marker=\".\")"
   ]
  },
  {
   "cell_type": "markdown",
   "id": "70320d8c",
   "metadata": {},
   "source": [
    "##### Modelo lineal"
   ]
  },
  {
   "cell_type": "code",
   "execution_count": 4,
   "id": "410dcbd0",
   "metadata": {},
   "outputs": [],
   "source": [
    "def h(X, w):\n",
    "    return (w[1] * np.array(X[:, 0]) + w[0])"
   ]
  },
  {
   "cell_type": "markdown",
   "id": "ae94f820",
   "metadata": {},
   "source": [
    "##### Función de pérdida y técnica de descenso del gradiente"
   ]
  },
  {
   "cell_type": "code",
   "execution_count": 5,
   "id": "2e1f4308",
   "metadata": {},
   "outputs": [],
   "source": [
    "def cost(w, X, y):\n",
    "    return (.5 / m) * np.sum(np.square(h(X, w) - np.array(y)))"
   ]
  },
  {
   "cell_type": "code",
   "execution_count": 6,
   "id": "2096632c",
   "metadata": {},
   "outputs": [],
   "source": [
    "def grad(w, X, y):\n",
    "    g = [0] * 2\n",
    "    g[0] = (1 / m) * np.sum(h(X, w) - np.array(y))\n",
    "    g[1] = (1 / m) * np.sum((h(X, w) - np.array(y)) * np.array(X[:, 0]))\n",
    "    return g"
   ]
  },
  {
   "cell_type": "code",
   "execution_count": 7,
   "id": "5390c02d",
   "metadata": {},
   "outputs": [],
   "source": [
    "def descent(w_new, w_prev, lr):\n",
    "    print('initial w = ', w_prev)\n",
    "    print('initial cost = ', cost(w_prev, X, y))\n",
    "    print('\\nLearning process')\n",
    "    j = 0\n",
    "    while True:\n",
    "        w_prev = w_new\n",
    "        w0 = w_prev[0] - lr * grad(w_prev, X, y)[0]\n",
    "        w1 = w_prev[1] - lr * grad(w_prev, X, y)[1]\n",
    "        w_new = [w0, w1]\n",
    "        print('w = ', w_new)\n",
    "        print('cost = ', cost(w_new, X, y))\n",
    "        if (w_new[0] - w_prev[0]) ** 2 + (w_new[1] - w_prev[1]) ** 2 <= pow(10, -6):\n",
    "            return w_new\n",
    "        if j > 500:\n",
    "            return w_new\n",
    "        j += 1\n"
   ]
  },
  {
   "cell_type": "markdown",
   "id": "5a942d13",
   "metadata": {},
   "source": [
    "##### Ejecución"
   ]
  },
  {
   "cell_type": "code",
   "execution_count": 8,
   "id": "9764bb52",
   "metadata": {},
   "outputs": [
    {
     "name": "stdout",
     "output_type": "stream",
     "text": [
      "initial w =  [1, 1]\n",
      "initial cost =  25.985624283260627\n",
      "\n",
      "Learning process\n",
      "w =  [0.961378747013862, 1.6603598555945491]\n",
      "cost =  21.811483326250816\n",
      "w =  [0.9217298369932873, 2.2596242678718044]\n",
      "cost =  18.3705139134818\n",
      "w =  [0.8816084305243458, 2.803479757959218]\n",
      "cost =  15.533283211389607\n",
      "w =  [0.8414720650162225, 3.2970801656434126]\n",
      "cost =  13.193332919123698\n",
      "w =  [0.8016943613771033, 3.745096885759515]\n",
      "cost =  11.263077605989603\n",
      "w =  [0.7625769880358844, 4.151764333539822]\n",
      "cost =  9.670439782432291\n",
      "w =  [0.724360091903363, 4.520921095300944]\n",
      "cost =  8.35608853729399\n",
      "w =  [0.6872313815278358, 4.856047176875461]\n",
      "cost =  7.271172800463746\n",
      "w =  [0.6513340261207899, 5.160297722488642]\n",
      "cost =  6.375460080167581\n",
      "w =  [0.6167735150010565, 5.436533540925707]\n",
      "cost =  5.635807695694064\n",
      "w =  [0.5836236050567111, 5.687348743454509]\n",
      "cost =  5.0249067452964695\n",
      "w =  [0.5519314688096015, 5.915095768723208]\n",
      "cost =  4.520249857980758\n",
      "w =  [0.521722142370967, 6.121908043436779]\n",
      "cost =  4.103282619128459\n",
      "w =  [0.4930023608054449, 6.309720503754321]\n",
      "cost =  3.758705793980886\n",
      "w =  [0.4657638580033984, 6.480288180792392]\n",
      "cost =  3.4739013939890264\n",
      "w =  [0.43998619894549257, 6.635203034143736]\n",
      "cost =  3.2384604788181566\n",
      "w =  [0.4156392040932558, 6.775909199723472]\n",
      "cost =  3.0437945571752882\n",
      "w =  [0.39268501843449616, 6.903716802353539]\n",
      "cost =  2.8828157024356176\n",
      "w =  [0.37107987134580345, 7.019814469126319]\n",
      "cost =  2.7496731648083004\n",
      "w =  [0.3507755678107993, 7.125280666601352]\n",
      "cost =  2.639536447130845\n",
      "w =  [0.3317207465677525, 7.221093973150829]\n",
      "cost =  2.5484166034491196\n",
      "w =  [0.3138619363785515, 7.308142387159179]\n",
      "cost =  2.4730189895539434\n",
      "w =  [0.29714443774613253, 7.387231762190382]\n",
      "cost =  2.4106219008485072\n",
      "w =  [0.28151305400008153, 7.45909345156517]\n",
      "cost =  2.358976522955413\n",
      "w =  [0.26691269266769246, 7.524391236950001]\n",
      "cost =  2.316224433320177\n",
      "w =  [0.2532888554036325, 7.5837276084704754]\n",
      "cost =  2.2808295596372044\n",
      "w =  [0.24058803242413546, 7.637649457451161]\n",
      "cost =  2.2515220493392785\n",
      "w =  [0.22875801534460996, 7.686653237086162]\n",
      "cost =  2.227251955049647\n",
      "w =  [0.21774814052014643, 7.731189641101273]\n",
      "cost =  2.207151011327224\n",
      "w =  [0.20750947340777268, 7.771667845725715]\n",
      "cost =  2.1905010826073914\n",
      "w =  [0.19799494308185459, 7.8084593560011815]\n",
      "cost =  2.1767081127315238\n",
      "w =  [0.189159434817101, 7.841901493574737]\n",
      "cost =  2.1652806125265025\n",
      "w =  [0.18095984758712477, 7.872300559610667]\n",
      "cost =  2.15581189146441\n",
      "w =  [0.17335512239265916, 7.8999347032792455]\n",
      "cost =  2.147965379003758\n",
      "w =  [0.16630624651658568, 7.925056523405468]\n",
      "cost =  2.1414624961234483\n",
      "w =  [0.1597762380889688, 7.947895428259199]\n",
      "cost =  2.1360726321908463\n",
      "w =  [0.15373011472199288, 7.968659776113628]\n",
      "cost =  2.1316048602541433\n",
      "w =  [0.14813484943116143, 7.987538817067912]\n",
      "cost =  2.127901088073144\n",
      "w =  [0.14295931658571603, 8.00470445470092]\n",
      "cost =  2.124830395130886\n",
      "w =  [0.13817423021945394, 8.020312844376903]\n",
      "cost =  2.122284349498194\n",
      "w =  [0.133752076675452, 8.034505843443062]\n",
      "cost =  2.120173134396228\n",
      "w =  [0.12966704324800568, 8.047412327127878]\n",
      "cost =  2.1184223439687804\n",
      "w =  [0.1258949442165106, 8.059149382653127]\n",
      "cost =  2.116970332247499\n",
      "w =  [0.12241314543388611, 8.069823392899124]\n",
      "cost =  2.1157660194834724\n",
      "w =  [0.11920048843191489, 8.079531019900086]\n",
      "cost =  2.114767076680347\n",
      "w =  [0.1162372148335369, 8.08836009748412]\n",
      "cost =  2.113938422916773\n",
      "w =  [0.1135048917141615, 8.096390441500727]\n",
      "cost =  2.1132509813998017\n",
      "w =  [0.11098633842733753, 8.103694585289134]\n",
      "cost =  2.112680649566134\n",
      "w =  [0.10866555530191627, 8.110338447325594]\n",
      "cost =  2.112207446291167\n",
      "w =  [0.10652765452575456, 8.116381937339867]\n",
      "cost =  2.1118148056619264\n",
      "w =  [0.10455879345292236, 8.121879506604062]\n",
      "cost =  2.1114889920546007\n",
      "w =  [0.10274611050545257, 8.126880647565168]\n",
      "cost =  2.1112186156243147\n",
      "w =  [0.10107766378527511, 8.131430347510621]\n",
      "cost =  2.110994230924127\n",
      "w =  [0.09954237246568937, 8.135569500519567]\n",
      "cost =  2.1108080043538715\n",
      "w =  [0.09812996099330411, 8.13933528155661]\n",
      "cost =  2.1106534386062736\n",
      "w =  [0.09683090609972234, 8.14276148620617]\n",
      "cost =  2.1105251443176978\n",
      "w =  [0.09563638659641885, 8.1458788392204]\n",
      "cost =  2.1104186508179357\n",
      "w =  [0.09453823590541767, 8.148715274758864]\n",
      "cost =  2.110330249269008\n",
      "w =  [0.09352889726180455, 8.15129619093103]\n",
      "cost =  2.110256862637504\n",
      "w =  [0.09260138151117125, 8.153644681010366]\n",
      "cost =  2.110195937900254\n",
      "w =  [0.09174922741523896, 8.155781743469259]\n",
      "cost =  2.1101453566737383\n",
      "w =  [0.09096646437166864, 8.157726472784779]\n",
      "cost =  2.1101033611119275\n",
      "w =  [0.09024757744902652, 8.15949623278484]\n",
      "cost =  2.110068492458897\n",
      "w =  [0.08958747463467258, 8.161106814140473]\n",
      "cost =  2.110039540090972\n",
      "w =  [0.08898145619167333, 8.162572577461482]\n",
      "cost =  2.1100154992544513\n",
      "w =  [0.08842518602043961, 8.163906583318052]\n",
      "cost =  2.109995536012397\n",
      "w =  [0.08791466492142638, 8.16512071038872]\n",
      "cost =  2.10997895816864\n",
      "w =  [0.08744620565670955, 8.166225762824286]\n",
      "cost =  2.1099651911480515\n",
      "w =  [0.08701640971040493, 8.167231567816774]\n",
      "cost =  2.1099537579868635\n",
      "w =  [0.08662214565057424, 8.168147064271277]\n",
      "cost =  2.109944262731561\n",
      "\n",
      "final w =  [0.08662214565057424, 8.168147064271277]\n",
      "final cost =  2.109944262731561\n"
     ]
    }
   ],
   "source": [
    "w = [1, 1]\n",
    "\n",
    "w = descent(w, w, .1)\n",
    "print('\\nfinal w = ', w)\n",
    "print('final cost = ', cost(w, X, y))"
   ]
  },
  {
   "cell_type": "markdown",
   "id": "1b077ac7",
   "metadata": {},
   "source": [
    "##### Gráfica final"
   ]
  },
  {
   "cell_type": "code",
   "execution_count": 9,
   "id": "95e237e6",
   "metadata": {},
   "outputs": [],
   "source": [
    "def graph(formula, x_range):\n",
    "    x = np.array(x_range)\n",
    "    y = formula(x)\n",
    "    plt.plot(x, y)\n",
    "\n",
    "\n",
    "def my_formula(x):\n",
    "    return w[1] * x + w[0]"
   ]
  },
  {
   "cell_type": "code",
   "execution_count": 10,
   "id": "6780767b",
   "metadata": {},
   "outputs": [
    {
     "data": {
      "image/png": "[encoded data removed]",
      "text/plain": [
       "<Figure size 432x288 with 1 Axes>"
      ]
     },
     "metadata": {
      "needs_background": "light"
     },
     "output_type": "display_data"
    }
   ],
   "source": [
    "plt.scatter(X, y, c=\"red\", marker=\".\")\n",
    "graph(my_formula, range(-3, 4))\n",
    "plt.xlabel('X')\n",
    "plt.ylabel('Y')\n",
    "plt.show()"
   ]
  }
 ],
 "metadata": {
  "kernelspec": {
   "display_name": "Python 3",
   "language": "python",
   "name": "python3"
  },
  "language_info": {
   "codemirror_mode": {
    "name": "ipython",
    "version": 3
   },
   "file_extension": ".py",
   "mimetype": "text/x-python",
   "name": "python",
   "nbconvert_exporter": "python",
   "pygments_lexer": "ipython3",
   "version": "3.8.10"
  }
 },
 "nbformat": 4,
 "nbformat_minor": 5
}
